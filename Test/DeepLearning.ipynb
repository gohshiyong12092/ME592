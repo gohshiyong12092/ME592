{
 "cells": [
  {
   "cell_type": "code",
   "execution_count": null,
   "metadata": {},
   "outputs": [],
   "source": [
    "import numpy as np\n",
    "from einops import rearrange\n",
    "import torch \n",
    "import torch.nn as nn \n"
   ]
  },
  {
   "cell_type": "markdown",
   "metadata": {},
   "source": [
    "# Optimization\n",
    "This notebook serves as an intro to automatic differentiation in pytorch. We'll start with a basic linear regression model and compare that with a basic MLP. After this we will build a small neural network and probe the impact of basic hyperparameters related to the optimization algorithm."
   ]
  },
  {
   "cell_type": "code",
   "execution_count": null,
   "metadata": {},
   "outputs": [],
   "source": [
    "def montecarlo(num_samples):\n",
    "    x = np.linspace(1,0, num_samples)\n",
    "    m = 1.3\n",
    "    b = 0.173\n",
    "    return x, (m *x) + b\n",
    "    \n"
   ]
  }
 ],
 "metadata": {
  "language_info": {
   "name": "python"
  },
  "orig_nbformat": 4
 },
 "nbformat": 4,
 "nbformat_minor": 2
}
