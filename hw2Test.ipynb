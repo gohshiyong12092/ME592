{
 "cells": [
  {
   "cell_type": "code",
   "execution_count": 1,
   "metadata": {},
   "outputs": [],
   "source": [
    "import cv2\n",
    "import numpy as np\n",
    "\n",
    "# Read the image\n",
    "img = cv2.imread(\"/Users/winsleygoh/Documents/Spring2023/ME592/AgandBio/1.jpg\", 0)\n",
    "\n",
    "# Apply thresholding to convert the image to binary\n",
    "ret, thresh = cv2.threshold(img, 40, 255, cv2.THRESH_BINARY)\n",
    "cv2.imshow(\"thresh\", thresh)\n",
    "# Apply morphological opening to remove small noise and grid lines\n",
    "kernel = np.ones((4,1),np.uint8)\n",
    "opening = cv2.morphologyEx(thresh, cv2.MORPH_OPEN, kernel)\n",
    "cv2.imshow(\"opening\", opening)\n",
    "kernel = np.ones((4,4),np.uint8)\n",
    "opening2 = cv2.morphologyEx(opening, cv2.MORPH_OPEN, kernel)\n",
    "cv2.imshow(\"opening2\", opening2)\n",
    "# Find contours in the image\n",
    "contours, hierarchy = cv2.findContours(opening, cv2.RETR_TREE, cv2.CHAIN_APPROX_SIMPLE)\n",
    "\n",
    "# Find the largest contour, which should be the image inside the grid\n",
    "max_area = 0\n",
    "max_contour = None\n",
    "for contour in contours:\n",
    "    area = cv2.contourArea(contour)\n",
    "    if area > max_area:\n",
    "        max_area = area\n",
    "        max_contour = contour\n",
    "\n",
    "# Create a mask of the same size as the input image\n",
    "mask = np.zeros_like(img)\n",
    "\n",
    "# Draw the largest contour on the mask\n",
    "cv2.drawContours(mask, [max_contour], 0, 255, -1)\n",
    "\n",
    "# Apply the mask to the input image\n",
    "masked_img = cv2.bitwise_and(img, mask)\n",
    "\n",
    "# Display the result\n",
    "cv2.imshow('Original Image', img)\n",
    "cv2.imshow('Masked Image', masked_img)\n",
    "cv2.waitKey(0)"
   ]
  }
 ],
 "metadata": {
  "kernelspec": {
   "display_name": "Python 3.10.9 ('cv')",
   "language": "python",
   "name": "python3"
  },
  "language_info": {
   "codemirror_mode": {
    "name": "ipython",
    "version": 3
   },
   "file_extension": ".py",
   "mimetype": "text/x-python",
   "name": "python",
   "nbconvert_exporter": "python",
   "pygments_lexer": "ipython3",
   "version": "3.10.9"
  },
  "orig_nbformat": 4,
  "vscode": {
   "interpreter": {
    "hash": "6dbb292ccbc687c3848c69f44656abb3bd45b9964a98b8f7e72f68c277b3e2e9"
   }
  }
 },
 "nbformat": 4,
 "nbformat_minor": 2
}
