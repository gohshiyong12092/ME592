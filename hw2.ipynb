{
 "cells": [
  {
   "cell_type": "code",
   "execution_count": 1,
   "metadata": {},
   "outputs": [],
   "source": [
    "import cv2\n",
    "import numpy as np "
   ]
  },
  {
   "cell_type": "markdown",
   "metadata": {},
   "source": [
    "2. Image Segmentation The goal here is to extract only the Arabidopsis seedlings from\n",
    "the images for more analysis. An example is shown in Fig. 1. Write a script to perform\n",
    "the same operation on the given two images to obtain a clean version of the images."
   ]
  },
  {
   "cell_type": "code",
   "execution_count": 2,
   "metadata": {},
   "outputs": [],
   "source": [
    "ori = cv2.imread(\"/Users/winsleygoh/Documents/Spring2023/ME592/AgandBio/1.jpg\")\n",
    "image = cv2.imread(\"/Users/winsleygoh/Documents/Spring2023/ME592/AgandBio/1.jpg\")"
   ]
  },
  {
   "cell_type": "code",
   "execution_count": 3,
   "metadata": {},
   "outputs": [],
   "source": [
    "color_img = cv2.cvtColor(ori,cv2.COLOR_BGR2RGB)\n",
    "cv2.imshow('color',color_img)"
   ]
  },
  {
   "cell_type": "code",
   "execution_count": 4,
   "metadata": {},
   "outputs": [],
   "source": [
    "# edged=cv2.Canny(ori,30,200)\n",
    "# cv2.imshow('canny edges',edged)\n"
   ]
  },
  {
   "cell_type": "code",
   "execution_count": 5,
   "metadata": {},
   "outputs": [],
   "source": [
    "denoised_img = cv2.fastNlMeansDenoisingColored(ori, None, 10, 10, 7, 21)\n",
    "cv2.imshow(\"denoised\", denoised_img)\n",
    "gray_img = cv2.cvtColor(denoised_img, cv2.COLOR_BGR2GRAY)\n",
    "ret, thresh_img = cv2.threshold(gray_img,35, 255, cv2.THRESH_BINARY_INV)"
   ]
  },
  {
   "cell_type": "code",
   "execution_count": 6,
   "metadata": {},
   "outputs": [],
   "source": [
    "cv2.imshow(\"gray\", thresh_img)"
   ]
  },
  {
   "cell_type": "code",
   "execution_count": 7,
   "metadata": {},
   "outputs": [],
   "source": [
    "# denoised_img2 = cv2.fastNlMeansDenoisingColored(denoised_img, None, 10, 10, 7, 21)\n",
    "# cv2.imshow(\"denoised2\", denoised_img2)"
   ]
  },
  {
   "cell_type": "code",
   "execution_count": 8,
   "metadata": {},
   "outputs": [],
   "source": [
    "kernel3= np.ones((1,5), np.uint8)\n",
    "dilate2 = cv2.dilate(thresh_img, kernel3)\n",
    "cv2.imshow(\"new dilate\", dilate2)"
   ]
  },
  {
   "cell_type": "code",
   "execution_count": 9,
   "metadata": {},
   "outputs": [],
   "source": [
    "thresh_img[dilate2 == 0] = 255\n",
    "cv2.imshow(\"BW \", thresh_img)"
   ]
  },
  {
   "cell_type": "code",
   "execution_count": 10,
   "metadata": {},
   "outputs": [],
   "source": [
    "denoised_img[thresh_img == 255] = 0\n",
    "cv2.imshow(\"Denoised image \", denoised_img)"
   ]
  },
  {
   "cell_type": "code",
   "execution_count": 11,
   "metadata": {},
   "outputs": [],
   "source": [
    "# erode = cv2.erode(thresh_img, kernel3)\n",
    "# cv2.imshow(\"erode\",erode)"
   ]
  },
  {
   "cell_type": "code",
   "execution_count": 12,
   "metadata": {},
   "outputs": [
    {
     "data": {
      "text/plain": [
       "array([255, 255, 255, 255, 255, 255, 255, 255, 255, 255, 255, 255, 255,\n",
       "       255, 255, 255, 255, 255, 255, 255, 255, 255, 255, 255, 255, 255,\n",
       "       255, 255, 255, 255, 255, 255, 255, 255, 255, 255,   0,   0,   0,\n",
       "         0,   0,   0,   0,   0,   0,   0,   0,   0,   0,   0,   0,   0,\n",
       "         0,   0,   0,   0,   0,   0,   0,   0,   0,   0,   0,   0,   0,\n",
       "         0,   0,   0,   0,   0,   0,   0,   0,   0,   0,   0,   0,   0,\n",
       "         0,   0,   0,   0,   0,   0,   0,   0,   0,   0, 255, 255, 255,\n",
       "       255, 255, 255, 255, 255, 255,   0,   0,   0,   0,   0,   0,   0,\n",
       "         0,   0,   0,   0,   0,   0,   0,   0,   0,   0,   0,   0,   0,\n",
       "         0,   0,   0,   0,   0,   0,   0,   0,   0, 255, 255, 255, 255,\n",
       "       255, 255, 255, 255, 255, 255, 255, 255, 255, 255, 255, 255, 255,\n",
       "       255, 255, 255, 255, 255, 255, 255, 255, 255, 255, 255, 255, 255,\n",
       "       255, 255, 255, 255, 255, 255, 255, 255, 255, 255, 255, 255, 255,\n",
       "       255, 255, 255, 255, 255, 255, 255, 255, 255, 255, 255,   0, 255,\n",
       "       255, 255, 255, 255, 255, 255, 255, 255,   0, 255, 255, 255, 255,\n",
       "       255, 255, 255, 255, 255, 255, 255, 255, 255, 255, 255, 255, 255,\n",
       "       255, 255, 255, 255, 255, 255, 255,   0,   0,   0,   0,   0,   0,\n",
       "         0,   0,   0,   0,   0,   0,   0,   0, 255, 255, 255, 255, 255,\n",
       "         0,   0, 255, 255, 255, 255, 255, 255, 255, 255, 255, 255, 255,\n",
       "       255, 255, 255,   0,   0, 255, 255, 255, 255, 255, 255, 255, 255,\n",
       "       255, 255, 255, 255, 255, 255, 255, 255, 255, 255, 255, 255, 255,\n",
       "       255,   0,   0, 255, 255, 255, 255, 255, 255, 255, 255, 255,   0,\n",
       "         0,   0,   0,   0, 255, 255, 255, 255, 255, 255, 255, 255, 255,\n",
       "       255, 255,   0,   0, 255, 255, 255, 255, 255, 255, 255, 255, 255,\n",
       "       255, 255, 255, 255, 255, 255, 255, 255, 255, 255, 255, 255, 255,\n",
       "       255, 255, 255, 255, 255, 255, 255, 255, 255, 255, 255, 255, 255,\n",
       "       255, 255,   0,   0,   0,   0,   0, 255, 255, 255, 255, 255, 255,\n",
       "       255, 255, 255, 255, 255, 255, 255, 255,   0,   0,   0,   0,   0,\n",
       "         0,   0,   0,   0,   0,   0,   0,   0,   0,   0, 255, 255, 255,\n",
       "       255, 255, 255, 255, 255, 255, 255, 255, 255, 255, 255, 255, 255,\n",
       "       255, 255, 255, 255, 255, 255, 255, 255, 255, 255, 255, 255, 255,\n",
       "       255, 255, 255, 255, 255, 255, 255, 255, 255, 255, 255, 255, 255,\n",
       "       255, 255, 255, 255, 255, 255, 255, 255, 255, 255, 255, 255, 255,\n",
       "       255, 255, 255,   0,   0,   0,   0,   0,   0,   0,   0,   0,   0,\n",
       "       255, 255, 255, 255, 255, 255, 255, 255, 255,   0,   0,   0,   0,\n",
       "         0,   0,   0,   0,   0,   0,   0,   0,   0,   0,   0,   0,   0,\n",
       "         0,   0,   0,   0,   0,   0,   0,   0,   0,   0,   0,   0,   0,\n",
       "         0,   0,   0,   0,   0,   0,   0,   0,   0, 255, 255, 255, 255,\n",
       "       255, 255, 255, 255, 255, 255, 255, 255, 255, 255, 255, 255, 255,\n",
       "       255, 255, 255, 255, 255, 255, 255, 255, 255,   0,   0,   0,   0,\n",
       "         0,   0,   0,   0,   0,   0,   0, 255, 255, 255, 255, 255, 255,\n",
       "       255, 255, 255, 255, 255, 255, 255, 255, 255, 255, 255, 255, 255,\n",
       "       255, 255, 255,   0,   0,   0,   0,   0,   0,   0,   0,   0, 255,\n",
       "       255, 255, 255, 255, 255, 255, 255, 255, 255, 255, 255, 255, 255,\n",
       "       255, 255, 255, 255, 255, 255, 255, 255, 255, 255, 255, 255, 255,\n",
       "       255, 255, 255, 255, 255, 255, 255, 255, 255, 255, 255, 255, 255,\n",
       "       255,   0,   0,   0,   0,   0,   0,   0,   0,   0,   0, 255, 255,\n",
       "       255, 255, 255, 255, 255, 255, 255, 255, 255, 255, 255, 255, 255,\n",
       "       255, 255, 255, 255, 255, 255, 255, 255, 255, 255, 255, 255, 255,\n",
       "       255, 255, 255, 255, 255, 255, 255, 255, 255, 255, 255, 255, 255,\n",
       "       255, 255, 255, 255, 255, 255, 255, 255, 255, 255, 255, 255, 255,\n",
       "       255, 255, 255, 255, 255, 255, 255, 255, 255, 255, 255, 255, 255,\n",
       "       255, 255, 255, 255, 255, 255, 255, 255, 255, 255, 255, 255, 255,\n",
       "       255, 255, 255, 255, 255, 255, 255, 255, 255, 255, 255, 255, 255,\n",
       "       255, 255, 255, 255, 255, 255, 255, 255, 255, 255, 255, 255, 255,\n",
       "       255, 255, 255, 255, 255], dtype=uint8)"
      ]
     },
     "execution_count": 12,
     "metadata": {},
     "output_type": "execute_result"
    }
   ],
   "source": [
    "# dilate2[1,:]"
   ]
  },
  {
   "cell_type": "code",
   "execution_count": 13,
   "metadata": {},
   "outputs": [
    {
     "data": {
      "text/plain": [
       "array([255, 255, 255, 255, 255, 255, 255, 255, 255, 255, 255, 255, 255,\n",
       "       255, 255, 255, 255, 255, 255, 255, 255, 255, 255, 255, 255, 255,\n",
       "       255, 255, 255,   0, 255, 255, 255, 255,   0,   0, 255, 255, 255,\n",
       "       255, 255, 255, 255, 255, 255, 255, 255, 255, 255, 255, 255, 255,\n",
       "       255, 255, 255, 255, 255, 255, 255, 255, 255, 255, 255, 255, 255,\n",
       "       255, 255, 255, 255, 255, 255, 255, 255, 255, 255, 255, 255, 255,\n",
       "       255, 255, 255, 255, 255, 255, 255, 255, 255, 255,   0,   0, 255,\n",
       "       255, 255, 255, 255,   0,   0, 255, 255, 255, 255, 255, 255, 255,\n",
       "       255, 255, 255, 255, 255, 255, 255, 255, 255, 255, 255, 255, 255,\n",
       "       255, 255, 255, 255, 255, 255, 255, 255, 255,   0,   0, 255, 255,\n",
       "       255, 255, 255, 255, 255, 255, 255, 255, 255, 255, 255, 255, 255,\n",
       "       255,   0,   0, 255, 255, 255, 255, 255, 255, 255, 255,   0, 255,\n",
       "       255, 255, 255, 255, 255, 255, 255, 255,   0, 255, 255, 255, 255,\n",
       "       255, 255, 255, 255, 255, 255, 255, 255, 255,   0,   0, 255,   0,\n",
       "         0, 255, 255, 255, 255, 255,   0,   0, 255,   0,   0, 255, 255,\n",
       "       255, 255, 255, 255, 255, 255, 255, 255, 255, 255, 255, 255, 255,\n",
       "       255, 255, 255, 255, 255,   0,   0, 255, 255, 255, 255, 255, 255,\n",
       "       255, 255, 255, 255, 255, 255, 255, 255,   0,   0, 255,   0,   0,\n",
       "       255, 255,   0,   0, 255, 255, 255, 255, 255, 255, 255, 255, 255,\n",
       "       255,   0,   0, 255, 255,   0,   0, 255, 255, 255, 255, 255, 255,\n",
       "       255, 255, 255, 255, 255, 255, 255, 255, 255,   0, 255, 255,   0,\n",
       "         0, 255, 255,   0,   0, 255, 255,   0, 255, 255,   0,   0, 255,\n",
       "       255, 255, 255, 255,   0,   0, 255,   0, 255, 255, 255, 255, 255,\n",
       "         0,   0, 255, 255,   0,   0, 255, 255, 255, 255, 255,   0,   0,\n",
       "       255, 255, 255, 255, 255, 255, 255, 255, 255, 255, 255, 255, 255,\n",
       "       255, 255, 255, 255, 255, 255, 255, 255, 255, 255, 255, 255, 255,\n",
       "         0,   0, 255, 255, 255, 255, 255,   0,   0, 255, 255, 255, 255,\n",
       "       255, 255, 255, 255, 255, 255,   0,   0, 255, 255, 255, 255, 255,\n",
       "       255, 255, 255, 255, 255, 255, 255, 255, 255, 255,   0,   0, 255,\n",
       "       255, 255, 255, 255, 255, 255, 255,   0,   0,   0, 255, 255, 255,\n",
       "       255, 255, 255, 255, 255, 255, 255, 255, 255, 255, 255, 255, 255,\n",
       "       255, 255, 255,   0,   0, 255, 255, 255, 255, 255, 255, 255, 255,\n",
       "       255, 255, 255, 255, 255, 255, 255,   0,   0,   0, 255, 255, 255,\n",
       "       255,   0,   0, 255, 255, 255, 255, 255, 255, 255, 255, 255, 255,\n",
       "         0,   0, 255, 255, 255, 255, 255,   0,   0, 255, 255, 255, 255,\n",
       "       255, 255, 255, 255, 255, 255, 255, 255, 255, 255, 255, 255, 255,\n",
       "       255, 255, 255, 255, 255, 255, 255, 255, 255, 255, 255, 255, 255,\n",
       "       255, 255, 255, 255, 255, 255, 255, 255, 255,   0,   0, 255,   0,\n",
       "         0, 255, 255, 255, 255, 255, 255, 255, 255, 255, 255, 255, 255,\n",
       "       255, 255, 255, 255, 255, 255, 255,   0,   0, 255, 255, 255, 255,\n",
       "       255, 255, 255, 255, 255, 255, 255,   0,   0, 255, 255, 255, 255,\n",
       "       255, 255, 255, 255,   0,   0, 255, 255, 255, 255,   0, 255, 255,\n",
       "       255,   0,   0, 255, 255, 255, 255, 255, 255, 255, 255, 255,   0,\n",
       "         0, 255, 255,   0, 255, 255, 255, 255, 255, 255, 255, 255, 255,\n",
       "       255, 255, 255, 255, 255, 255, 255, 255, 255, 255, 255, 255, 255,\n",
       "       255, 255, 255, 255,   0,   0,   0, 255, 255, 255, 255, 255,   0,\n",
       "         0, 255, 255, 255, 255, 255, 255, 255, 255, 255, 255,   0,   0,\n",
       "       255, 255, 255, 255, 255, 255, 255, 255, 255, 255, 255, 255, 255,\n",
       "       255, 255, 255, 255, 255, 255, 255, 255, 255, 255, 255, 255, 255,\n",
       "       255, 255, 255, 255, 255, 255, 255, 255, 255, 255, 255, 255, 255,\n",
       "       255, 255, 255, 255, 255, 255, 255, 255, 255, 255, 255, 255, 255,\n",
       "       255, 255, 255, 255, 255, 255, 255, 255, 255, 255, 255, 255, 255,\n",
       "       255, 255, 255, 255, 255, 255, 255, 255, 255, 255, 255, 255, 255,\n",
       "       255, 255, 255, 255, 255, 255, 255, 255, 255, 255, 255, 255, 255,\n",
       "       255, 255, 255, 255, 255, 255, 255, 255, 255, 255, 255, 255, 255,\n",
       "       255, 255, 255, 255, 255], dtype=uint8)"
      ]
     },
     "execution_count": 13,
     "metadata": {},
     "output_type": "execute_result"
    }
   ],
   "source": [
    "# thresh_img[1,:]"
   ]
  },
  {
   "cell_type": "code",
   "execution_count": 14,
   "metadata": {},
   "outputs": [],
   "source": [
    "\n",
    "# kernel[1,:] = 0\n",
    "# print(kernel)\n",
    "# erode = cv2.erode(thresh_img,kernel)\n",
    "# kernel2 =kernel = np.ones((3,1), np.uint8)\n",
    "# # dilate = cv2.dilate(erode, kernel2)\n",
    "# dilate2 = cv2.dilate(thresh_img, kernel2)\n",
    "# kernel3= np.ones((1,5), np.uint8)\n",
    "# # dilate2 = cv2.dilate(dilate2, kernel3)\n",
    "# cv2.imshow(\"erode\", erode)\n",
    "# # cv2.imshow(\"dilate\", dilate)\n",
    "# cv2.imshow(\"dilate2\", dilate2)"
   ]
  },
  {
   "cell_type": "code",
   "execution_count": 15,
   "metadata": {},
   "outputs": [],
   "source": [
    "# thresh_img[dilate2 == 255] = 2"
   ]
  },
  {
   "cell_type": "code",
   "execution_count": 16,
   "metadata": {},
   "outputs": [],
   "source": [
    "# erode = cv2.erode(edged,kernel)\n",
    "# dilate = cv2.dilate(erode, kernel)\n",
    "# cv2.imshow(\"dilate\", dilate)\n",
    "# cv2.imshow(\"erode\", erode)"
   ]
  },
  {
   "cell_type": "code",
   "execution_count": 17,
   "metadata": {},
   "outputs": [],
   "source": [
    "# dilate_edge = cv2.dilate(edged, kernel)\n",
    "# erode_dilate = cv2.erode(dilate_edge, kernel,iterations = 3)\n",
    "# dilate_edge = cv2.dilate(erode_dilate, kernel)\n",
    "# erode_dilate = cv2.erode(dilate_edge, kernel,iterations = 3)\n",
    "# cv2.imshow(\"dilate edge\", dilate_edge)\n",
    "# cv2.imshow(\"erode \", erode_dilate)\n",
    "\n",
    "# cv2.imshow(\"thresh\", thresh_img)"
   ]
  },
  {
   "cell_type": "code",
   "execution_count": 18,
   "metadata": {},
   "outputs": [],
   "source": [
    "# blur = cv2.GaussianBlur(gray_img, (0,0), sigmaX=33, sigmaY=33)\n",
    "# cv2.imshow(\"blur\", blur)"
   ]
  },
  {
   "cell_type": "code",
   "execution_count": 19,
   "metadata": {},
   "outputs": [],
   "source": [
    "# thresh_img[dilate == 0] = 255\n",
    "# cv2.imshow(\"new image\", thresh_img)"
   ]
  },
  {
   "cell_type": "code",
   "execution_count": 20,
   "metadata": {},
   "outputs": [],
   "source": [
    "# cv2.imshow(\"gray\", gray_img)\n",
    "# contours, hierarchy = cv2.findContours(thresh_img, cv2.RETR_EXTERNAL, cv2.CHAIN_APPROX_NONE)\n",
    "# i = 0\n",
    "# for contour in contours:\n",
    "#     x, y, w, h = cv2.boundingRect(contour)\n",
    "#     # cv2.rectangle(image, (x, y), (x+w, y+h), (255, 255, 255), -1)\n",
    "#     name = \"image\"+ str(i)\n",
    "#     temp = denoised_img[y:y+h,x:x+w]\n",
    "#     cv2.imshow(name, temp)\n",
    "#     i +=1\n"
   ]
  },
  {
   "cell_type": "code",
   "execution_count": 21,
   "metadata": {},
   "outputs": [],
   "source": [
    "cv2.imshow(\"original\",ori)\n",
    "cv2.imshow(\"Image\",gray_img)\n",
    "\n",
    "cv2.waitKey(0)\n",
    "# cv2.destroyAllWindows()"
   ]
  },
  {
   "cell_type": "code",
   "execution_count": null,
   "metadata": {},
   "outputs": [],
   "source": []
  }
 ],
 "metadata": {
  "kernelspec": {
   "display_name": "Python 3.10.9 ('cv')",
   "language": "python",
   "name": "python3"
  },
  "language_info": {
   "codemirror_mode": {
    "name": "ipython",
    "version": 3
   },
   "file_extension": ".py",
   "mimetype": "text/x-python",
   "name": "python",
   "nbconvert_exporter": "python",
   "pygments_lexer": "ipython3",
   "version": "3.10.9"
  },
  "orig_nbformat": 4,
  "vscode": {
   "interpreter": {
    "hash": "6dbb292ccbc687c3848c69f44656abb3bd45b9964a98b8f7e72f68c277b3e2e9"
   }
  }
 },
 "nbformat": 4,
 "nbformat_minor": 2
}
