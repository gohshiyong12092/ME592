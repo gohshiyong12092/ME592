{
 "cells": [
  {
   "cell_type": "markdown",
   "metadata": {},
   "source": [
    "## **2.1 Images**"
   ]
  },
  {
   "cell_type": "code",
   "execution_count": null,
   "metadata": {},
   "outputs": [],
   "source": [
    "import torchvision.datasets as datasets\n",
    "import matplotlib.pyplot as plt \n",
    "import torchvision.transforms as transforms\n",
    "import torch"
   ]
  },
  {
   "cell_type": "markdown",
   "metadata": {},
   "source": [
    "##### Download the MNIST dataset using the torchvision library and create a subset of the dataset containing 1,000 samples. Each sample will include a 28 × 28 pixel image, along with a single integer value denoting the sample’s respective class (number)."
   ]
  },
  {
   "cell_type": "code",
   "execution_count": null,
   "metadata": {},
   "outputs": [],
   "source": [
    "mnistdataset = datasets.MNIST(root='./data', train=True, download=True, transform=transforms.ToTensor())\n",
    "\n",
    "subset = torch.utils.data.Subset(mnistdataset,range(1000))\n",
    "#print(type(mnist_subset))\n",
    "\n",
    "type(mnistdataset)"
   ]
  },
  {
   "cell_type": "markdown",
   "metadata": {},
   "source": [
    "##### Plot a histogram of classes in your subset of MNIST."
   ]
  },
  {
   "cell_type": "code",
   "execution_count": null,
   "metadata": {},
   "outputs": [],
   "source": [
    "# test function\n",
    "# count = 0\n",
    "# for i in range(len(subset)):\n",
    "#     print(subset[i][1])\n",
    "#     if (subset[i][1] == 0):\n",
    "#         count += 1\n",
    "# print(\"count: \", count)"
   ]
  },
  {
   "cell_type": "code",
   "execution_count": null,
   "metadata": {},
   "outputs": [],
   "source": [
    "labels = [subset[i][1] for i in range(len(subset))]\n",
    "plt.hist(labels, bins=range(11))\n",
    "plt.xlabel('Class Label')\n",
    "plt.ylabel('Count')\n",
    "plt.title('Histogram of Classes in the MNIST Subset')\n",
    "plt.show()"
   ]
  },
  {
   "cell_type": "markdown",
   "metadata": {},
   "source": [
    "##### Use the einops python package to ’batch’ the subset of MNIST images. Each batch should contain 25 different samples. Hint: The subset of MNIST image data should change dimensions from [1000, 28, 28] → [Number of Batches, Batch Size, 1, 28, 28] \n",
    "##### Context: Deep learning models operate over batches of samples. This rapidly speeds up computation as the forward pass runs parallel across the batch dimension.Batching also can improve optimization and provides the S in SGD (Stochastic Gradient Descent). Additionally, neural networks expect a channel dimension for image data. MNIST is grayscale so it only contains one channel, but other images can contain color, in which case they will have three channels, RGB."
   ]
  },
  {
   "cell_type": "code",
   "execution_count": null,
   "metadata": {},
   "outputs": [],
   "source": [
    "import numpy as np\n",
    "from einops import rearrange \n",
    "\n",
    "batchSize = 25\n",
    "# mnist_dataset.shape\n",
    "#images = einops.rearrange()\n",
    "index_arr = np.random.choice(60000, 1000)\n",
    "sub_images = mnistdataset.train_data[index_arr,:,:]\n",
    "new_batch = rearrange(sub_images,'(b1 b2) h w -> b1 b2 1 h w',b2=25)\n",
    "print(new_batch.shape)"
   ]
  },
  {
   "cell_type": "markdown",
   "metadata": {},
   "source": [
    "##### Randomly select an MNIST image sample and, using matplotlib, plot it in three dimensions. The x and y-axis’ should be the respective pixel locations, and the z-axis should be the pixel intensity."
   ]
  },
  {
   "cell_type": "code",
   "execution_count": null,
   "metadata": {},
   "outputs": [],
   "source": [
    "import random\n",
    "mnist = mnistdataset._load_data()\n",
    "\n",
    "    "
   ]
  },
  {
   "cell_type": "code",
   "execution_count": null,
   "metadata": {},
   "outputs": [],
   "source": [
    "image, label = mnist\n",
    "random.seed(0)\n",
    "index = np.random.randint(0, 28)\n",
    "x = []\n",
    "y = []\n",
    "z = []\n",
    "for i in range(len(image[index])):\n",
    "    for j in range(len(image[index])):\n",
    "        temp = int(image[index][i,j])\n",
    "        x.append(i)\n",
    "        y.append(j)\n",
    "        z.append(temp)\n"
   ]
  },
  {
   "cell_type": "code",
   "execution_count": null,
   "metadata": {},
   "outputs": [],
   "source": [
    "fig = plt.figure()\n",
    "ax = fig.add_subplot(111, projection='3d')\n",
    "# z = image[index]\n",
    "#print(z)\n",
    "# ax.plot3D(x, y, z, 'gray')\n",
    "ax.contour(x, y, z)\n",
    "\n"
   ]
  },
  {
   "cell_type": "code",
   "execution_count": null,
   "metadata": {},
   "outputs": [],
   "source": [
    "from mpl_toolkits.mplot3d import axes3d\n",
    "import matplotlib.pyplot as plt\n",
    "from matplotlib import cm\n",
    "\n",
    "ax = plt.figure().add_subplot(projection='3d')\n",
    "X, Y, Z = axes3d.get_test_data(0.05)\n",
    "\n",
    "ax.contour(X, Y, Z, cmap=cm.coolwarm)  # Plot contour curves\n",
    "\n",
    "plt.show()"
   ]
  },
  {
   "cell_type": "markdown",
   "metadata": {},
   "source": [
    "## 2.2 Time Series"
   ]
  },
  {
   "cell_type": "markdown",
   "metadata": {},
   "source": [
    "##### Task: Load the data (energydata complete.csv) and perform the following analysis."
   ]
  },
  {
   "cell_type": "code",
   "execution_count": null,
   "metadata": {},
   "outputs": [],
   "source": [
    "import pandas as pd \n",
    "data = pd.read_csv('energydata_complete.csv')\n",
    "data"
   ]
  },
  {
   "cell_type": "markdown",
   "metadata": {},
   "source": [
    "##### Plot the appliances energy consumption for whole period and a closer look at anyone week of consumption."
   ]
  },
  {
   "cell_type": "code",
   "execution_count": null,
   "metadata": {},
   "outputs": [],
   "source": [
    "timedata_np = data.to_numpy()\n",
    "print(timedata_np[:,1])\n",
    "plt.plot( timedata_np[:,1])"
   ]
  },
  {
   "cell_type": "code",
   "execution_count": null,
   "metadata": {},
   "outputs": [],
   "source": [
    "print(timedata_np[42,0])\n",
    "print(timedata_np[7*24*6+42,0])"
   ]
  },
  {
   "cell_type": "code",
   "execution_count": null,
   "metadata": {},
   "outputs": [],
   "source": [
    "begin = 42\n",
    "end = 7*24*6 + begin\n",
    "sub = timedata_np[begin:end, 1]\n",
    "plt.plot(sub)\n"
   ]
  },
  {
   "cell_type": "code",
   "execution_count": null,
   "metadata": {},
   "outputs": [],
   "source": [
    "data['date']"
   ]
  },
  {
   "cell_type": "code",
   "execution_count": null,
   "metadata": {},
   "outputs": [],
   "source": [
    "data"
   ]
  },
  {
   "cell_type": "markdown",
   "metadata": {},
   "source": [
    "##### Plot heatmap of hourly consumption of appliances for a week. An example heatmap looks like Figure 1."
   ]
  },
  {
   "cell_type": "code",
   "execution_count": null,
   "metadata": {},
   "outputs": [],
   "source": [
    "date = data[\"date\"]\n",
    "to = data.set_index(pd.DatetimeIndex(pd.to_datetime(date)))\n",
    "\n",
    "plt.figure(figsize=(5,10))\n",
    "to_day = to.resample('H').sum()\n",
    "#to_day\n",
    "week_data = to_day.loc['2016-01-12 00:00:00': '2016-01-18 23:50:00']\n",
    "#week_data\n",
    "week_data['Appliances']\n",
    "week_data = np.reshape(week_data['Appliances'].values,(24,7))\n",
    "#week_data\n",
    "heatmap = plt.pcolormesh(week_data)\n",
    "plt.yticks(np.arange(0,25))\n",
    "plt.xticks(np.arange(0,7))\n",
    "plt.xlabel(\"Weekend\")\n",
    "plt.ylabel(\"Hours of day\")\n",
    "#ax = plt.axes()\n",
    "#ax.set_xticklabels([])\n",
    "plt.colorbar(heatmap)\n",
    "plt.show()"
   ]
  },
  {
   "cell_type": "markdown",
   "metadata": {},
   "source": [
    "##### Plot the histogram of energy consumption of appliances."
   ]
  },
  {
   "cell_type": "code",
   "execution_count": null,
   "metadata": {},
   "outputs": [],
   "source": [
    "plt.hist(data['Appliances'],bins = 50)\n",
    "plt.xlabel('Energy Consumption (Wh)')\n"
   ]
  },
  {
   "cell_type": "markdown",
   "metadata": {},
   "source": [
    "##### Construct a feature variable NSM (no. of seconds from midnight) and plot energy consumption vs. NSM."
   ]
  },
  {
   "cell_type": "code",
   "execution_count": null,
   "metadata": {},
   "outputs": [],
   "source": [
    "\n",
    "#print(data[\"date\"])\n",
    "time = data[\"date\"][6][-8:]\n",
    "print(time)\n",
    "second = int(time[-2:])+ int(time[-5:-3])*60+ int(time[0:2])*3600\n",
    "\n",
    "# convert date to nsm \n",
    "def to_NSM(date):\n",
    "    time = date[-8:]\n",
    "    sec = int(time[-2:])+ int(time[-5:-3])*60+ int(time[0:2])*3600\n",
    "    return sec\n",
    "#print(to_NSM(data[\"date\"][6]))\n"
   ]
  },
  {
   "cell_type": "code",
   "execution_count": null,
   "metadata": {},
   "outputs": [],
   "source": [
    "data[\"NSM\"] = data[\"date\"].apply(lambda x: to_NSM(x))\n",
    "data"
   ]
  },
  {
   "cell_type": "markdown",
   "metadata": {},
   "source": []
  },
  {
   "cell_type": "code",
   "execution_count": null,
   "metadata": {},
   "outputs": [],
   "source": [
    "plt.plot(data['NSM'], data['Appliances'],\"o\")\n",
    "plt.ylabel('Energy Consumption')\n",
    "plt.xlabel('NSM')\n",
    "plt.show()"
   ]
  },
  {
   "cell_type": "markdown",
   "metadata": {},
   "source": [
    "##### Plot appliances energy consumption vs. Press mm Hg."
   ]
  },
  {
   "cell_type": "code",
   "execution_count": null,
   "metadata": {},
   "outputs": [],
   "source": [
    "plt.plot(data['Press_mm_hg'], data['Appliances'],'o')\n",
    "plt.ylabel('Energy Consumption')\n",
    "plt.xlabel('Pressure mm Hg')\n",
    "plt.show()"
   ]
  },
  {
   "cell_type": "markdown",
   "metadata": {},
   "source": [
    "##### It is observed that the major contributing factors for the energy consumption among all other features is NSM and Press mm Hg. Comment on it."
   ]
  },
  {
   "cell_type": "markdown",
   "metadata": {},
   "source": [
    "##### Ans: When the pressure is between 740 and 770, the average of energy consumption is higher. Comparing the energy consumption vs. NSM plot ,and appliances energy consumption vs. Press mm Hg plot, the plots pattern are somehow similar, most points are at the same position on the plots. It is because the pressure value is increasing corresponding to time."
   ]
  },
  {
   "cell_type": "markdown",
   "metadata": {},
   "source": [
    "##### Task: Load the data and Compute the following descriptive statistics of the data:\n",
    "##### 1. Mean\n",
    "##### 2. Variance (or Standard Deviation)\n",
    "##### 3. Median\n",
    "##### 4. Kurtosis\n",
    "##### 5. Skewness\n",
    "##### 6. Range"
   ]
  },
  {
   "cell_type": "code",
   "execution_count": null,
   "metadata": {},
   "outputs": [],
   "source": [
    "data2 = pd.read_csv('airfoil_self_noise.dat',delimiter=\"\\t\",header=None)\n",
    "data2.columns =[\"Frequency Hz\",\"Angle of attack degrees\",\"Chord length meters\",\"Free-stream velocity meters per second\",\"Suction side displacement thickness meters\",\"Pressure Level\"]\n",
    "data2"
   ]
  },
  {
   "cell_type": "code",
   "execution_count": null,
   "metadata": {},
   "outputs": [],
   "source": [
    "data2.mean()"
   ]
  },
  {
   "cell_type": "code",
   "execution_count": null,
   "metadata": {},
   "outputs": [],
   "source": [
    "data2.var()"
   ]
  },
  {
   "cell_type": "code",
   "execution_count": null,
   "metadata": {},
   "outputs": [],
   "source": [
    "data2.median()"
   ]
  },
  {
   "cell_type": "code",
   "execution_count": null,
   "metadata": {},
   "outputs": [],
   "source": [
    "data2.kurtosis()"
   ]
  },
  {
   "cell_type": "code",
   "execution_count": null,
   "metadata": {},
   "outputs": [],
   "source": [
    "data2.skew()"
   ]
  }
 ],
 "metadata": {
  "kernelspec": {
   "display_name": "Python 3.10.8 ('COMS577')",
   "language": "python",
   "name": "python3"
  },
  "language_info": {
   "codemirror_mode": {
    "name": "ipython",
    "version": 3
   },
   "file_extension": ".py",
   "mimetype": "text/x-python",
   "name": "python",
   "nbconvert_exporter": "python",
   "pygments_lexer": "ipython3",
   "version": "3.10.8"
  },
  "vscode": {
   "interpreter": {
    "hash": "600c18564c212758b960f356271f529cbedf237a4f7a1446505443324bceabca"
   }
  }
 },
 "nbformat": 4,
 "nbformat_minor": 2
}
